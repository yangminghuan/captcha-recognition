{
 "cells": [
  {
   "cell_type": "code",
   "execution_count": 1,
   "id": "8894777b-03e1-4433-b3e3-bd53ed2f2793",
   "metadata": {},
   "outputs": [],
   "source": [
    "from selenium import webdriver\n",
    "from selenium.webdriver.common.by import By\n",
    "import time\n",
    "import numpy as np"
   ]
  },
  {
   "cell_type": "code",
   "execution_count": 2,
   "id": "f1fc5dc9-cfc9-4e05-932f-ca46cdcc8d60",
   "metadata": {},
   "outputs": [],
   "source": [
    "import ddddocr\n",
    "from PIL import Image, ImageFilter\n",
    "\n",
    "class MyGaussianBlur(ImageFilter.Filter):\n",
    "    name = \"GaussianBlur\"\n",
    "    \n",
    "    def __init__(self, radius=2, bounds=None):\n",
    "        self.radius = radius\n",
    "        self.bounds = bounds\n",
    "    def filter(self, image):\n",
    "        if self.bounds:\n",
    "            clips = image.crop(self.bounds).gaussian_blur(self.radius)\n",
    "            image.paste(clips, self.bounds)\n",
    "            return image\n",
    "        else:\n",
    "            return image.gaussian_blur(self.radius)"
   ]
  },
  {
   "cell_type": "code",
   "execution_count": 3,
   "id": "02a81f0a-875a-49db-8cc4-0f01c9564659",
   "metadata": {},
   "outputs": [],
   "source": [
    "def ease_out_bounce(x):\n",
    "    n1 = 7.5625\n",
    "    d1 = 2.75\n",
    "    if x < 1 / d1:\n",
    "        return n1 * x * x\n",
    "    elif x < 2 / d1:\n",
    "        x -= 1.5 / d1\n",
    "        return n1 * x * x + 0.75\n",
    "    elif x < 2.5 / d1:\n",
    "        x -= 2.25 / d1\n",
    "        return n1 * x * x + 0.9375\n",
    "    else:\n",
    "        x -= 2.625 / d1\n",
    "        return n1 * x * x + 0.984375\n",
    "\n",
    "\n",
    "def ease_in_out_bounce(x):\n",
    "    return ( 1 - ease_out_bounce( 1 - 2 * x ) ) / 2 if x < 0.5 else ( 1 + ease_out_bounce( 2 * x - 1 ) ) / 2\n",
    "\n",
    "\n",
    "def get_tracks(distance, seconds, ease_func):\n",
    "    \"\"\"\n",
    "    可以根据滑块的偏移，需要的时间（相对时间，并不是准确时间），以及要采用的缓动函数生成拖动轨迹。\n",
    "    \n",
    "    :param distance: 位移距离\n",
    "    :param seconds: 时间秒\n",
    "    :par\n",
    "    am ease_func: 调用的缓慢函数\n",
    "    :return:\n",
    "    \"\"\"\n",
    "    tracks = [0]\n",
    "    offsets = [0]\n",
    "    for t in np.arange(0.0, seconds, 0.1):\n",
    "        ease = globals()[ease_func]\n",
    "        offset = round(ease(t / seconds) * distance)\n",
    "        tracks.append(offset - offsets[-1])\n",
    "        offsets.append(offset)\n",
    "    return offsets, tracks"
   ]
  },
  {
   "cell_type": "code",
   "execution_count": 4,
   "id": "fefc1682-8206-4460-bbd7-acdb060e27ff",
   "metadata": {
    "tags": []
   },
   "outputs": [
    {
     "name": "stdout",
     "output_type": "stream",
     "text": [
      "{'target_y': 0, 'target': [0, 0, 53, 52]}\n",
      "{'target_y': 0, 'target': [135, 0, 188, 52]}\n"
     ]
    },
    {
     "ename": "NoSuchElementException",
     "evalue": "Message: no such element: Unable to locate element: {\"method\":\"xpath\",\"selector\":\"/html/body/div[4]/div[2]/div[2]/div[1]/div[2]/div[1]/a[2]/div[1]\"}\n  (Session info: chrome=115.0.5790.110); For documentation on this error, please visit: https://www.selenium.dev/documentation/webdriver/troubleshooting/errors#no-such-element-exception\nStacktrace:\nBacktrace:\n\tGetHandleVerifier [0x00007FF6A5154A62+57106]\n\t(No symbol) [0x00007FF6A50CCF52]\n\t(No symbol) [0x00007FF6A4F9E2CB]\n\t(No symbol) [0x00007FF6A4FD786E]\n\t(No symbol) [0x00007FF6A4FD795C]\n\t(No symbol) [0x00007FF6A5010477]\n\t(No symbol) [0x00007FF6A4FF69FF]\n\t(No symbol) [0x00007FF6A500E522]\n\t(No symbol) [0x00007FF6A4FF6793]\n\t(No symbol) [0x00007FF6A4FCCE81]\n\t(No symbol) [0x00007FF6A4FCE064]\n\tGetHandleVerifier [0x00007FF6A5404222+2873042]\n\tGetHandleVerifier [0x00007FF6A5456590+3209792]\n\tGetHandleVerifier [0x00007FF6A544F3AF+3180639]\n\tGetHandleVerifier [0x00007FF6A51E5F25+652245]\n\t(No symbol) [0x00007FF6A50D8618]\n\t(No symbol) [0x00007FF6A50D47C4]\n\t(No symbol) [0x00007FF6A50D48BC]\n\t(No symbol) [0x00007FF6A50C4C33]\n\tBaseThreadInitThunk [0x00007FFF57917614+20]\n\tRtlUserThreadStart [0x00007FFF591C26B1+33]\n",
     "output_type": "error",
     "traceback": [
      "\u001b[1;31m---------------------------------------------------------------------------\u001b[0m",
      "\u001b[1;31mNoSuchElementException\u001b[0m                    Traceback (most recent call last)",
      "Input \u001b[1;32mIn [4]\u001b[0m, in \u001b[0;36m<cell line: 24>\u001b[1;34m()\u001b[0m\n\u001b[0;32m     21\u001b[0m time\u001b[38;5;241m.\u001b[39msleep(\u001b[38;5;241m2\u001b[39m)\n\u001b[0;32m     23\u001b[0m \u001b[38;5;28;01mwhile\u001b[39;00m \u001b[38;5;28;01mTrue\u001b[39;00m:\n\u001b[1;32m---> 24\u001b[0m     \u001b[43mdriver\u001b[49m\u001b[38;5;241;43m.\u001b[39;49m\u001b[43mfind_element\u001b[49m\u001b[43m(\u001b[49m\u001b[43mBy\u001b[49m\u001b[38;5;241;43m.\u001b[39;49m\u001b[43mXPATH\u001b[49m\u001b[43m,\u001b[49m\u001b[43m \u001b[49m\u001b[38;5;124;43m'\u001b[39;49m\u001b[38;5;124;43m/html/body/div[4]/div[2]/div[2]/div[1]/div[2]/div[1]/a[2]/div[1]\u001b[39;49m\u001b[38;5;124;43m'\u001b[39;49m\u001b[43m)\u001b[49m\u001b[38;5;241m.\u001b[39mscreenshot(\u001b[38;5;124m'\u001b[39m\u001b[38;5;124ma.png\u001b[39m\u001b[38;5;124m'\u001b[39m)\n\u001b[0;32m     25\u001b[0m     driver\u001b[38;5;241m.\u001b[39mfind_element(By\u001b[38;5;241m.\u001b[39mXPATH, \u001b[38;5;124m'\u001b[39m\u001b[38;5;124m/html/body/div[4]/div[2]/div[2]/div[2]/div[2]\u001b[39m\u001b[38;5;124m'\u001b[39m)\u001b[38;5;241m.\u001b[39mclick()\n\u001b[0;32m     26\u001b[0m     time\u001b[38;5;241m.\u001b[39msleep(\u001b[38;5;241m3\u001b[39m)\n",
      "File \u001b[1;32mF:\\anaconda3\\envs\\spider\\lib\\site-packages\\selenium\\webdriver\\remote\\webdriver.py:739\u001b[0m, in \u001b[0;36mWebDriver.find_element\u001b[1;34m(self, by, value)\u001b[0m\n\u001b[0;32m    736\u001b[0m     by \u001b[38;5;241m=\u001b[39m By\u001b[38;5;241m.\u001b[39mCSS_SELECTOR\n\u001b[0;32m    737\u001b[0m     value \u001b[38;5;241m=\u001b[39m \u001b[38;5;124mf\u001b[39m\u001b[38;5;124m'\u001b[39m\u001b[38;5;124m[name=\u001b[39m\u001b[38;5;124m\"\u001b[39m\u001b[38;5;132;01m{\u001b[39;00mvalue\u001b[38;5;132;01m}\u001b[39;00m\u001b[38;5;124m\"\u001b[39m\u001b[38;5;124m]\u001b[39m\u001b[38;5;124m'\u001b[39m\n\u001b[1;32m--> 739\u001b[0m \u001b[38;5;28;01mreturn\u001b[39;00m \u001b[38;5;28;43mself\u001b[39;49m\u001b[38;5;241;43m.\u001b[39;49m\u001b[43mexecute\u001b[49m\u001b[43m(\u001b[49m\u001b[43mCommand\u001b[49m\u001b[38;5;241;43m.\u001b[39;49m\u001b[43mFIND_ELEMENT\u001b[49m\u001b[43m,\u001b[49m\u001b[43m \u001b[49m\u001b[43m{\u001b[49m\u001b[38;5;124;43m\"\u001b[39;49m\u001b[38;5;124;43musing\u001b[39;49m\u001b[38;5;124;43m\"\u001b[39;49m\u001b[43m:\u001b[49m\u001b[43m \u001b[49m\u001b[43mby\u001b[49m\u001b[43m,\u001b[49m\u001b[43m \u001b[49m\u001b[38;5;124;43m\"\u001b[39;49m\u001b[38;5;124;43mvalue\u001b[39;49m\u001b[38;5;124;43m\"\u001b[39;49m\u001b[43m:\u001b[49m\u001b[43m \u001b[49m\u001b[43mvalue\u001b[49m\u001b[43m}\u001b[49m\u001b[43m)\u001b[49m[\u001b[38;5;124m\"\u001b[39m\u001b[38;5;124mvalue\u001b[39m\u001b[38;5;124m\"\u001b[39m]\n",
      "File \u001b[1;32mF:\\anaconda3\\envs\\spider\\lib\\site-packages\\selenium\\webdriver\\remote\\webdriver.py:345\u001b[0m, in \u001b[0;36mWebDriver.execute\u001b[1;34m(self, driver_command, params)\u001b[0m\n\u001b[0;32m    343\u001b[0m response \u001b[38;5;241m=\u001b[39m \u001b[38;5;28mself\u001b[39m\u001b[38;5;241m.\u001b[39mcommand_executor\u001b[38;5;241m.\u001b[39mexecute(driver_command, params)\n\u001b[0;32m    344\u001b[0m \u001b[38;5;28;01mif\u001b[39;00m response:\n\u001b[1;32m--> 345\u001b[0m     \u001b[38;5;28;43mself\u001b[39;49m\u001b[38;5;241;43m.\u001b[39;49m\u001b[43merror_handler\u001b[49m\u001b[38;5;241;43m.\u001b[39;49m\u001b[43mcheck_response\u001b[49m\u001b[43m(\u001b[49m\u001b[43mresponse\u001b[49m\u001b[43m)\u001b[49m\n\u001b[0;32m    346\u001b[0m     response[\u001b[38;5;124m\"\u001b[39m\u001b[38;5;124mvalue\u001b[39m\u001b[38;5;124m\"\u001b[39m] \u001b[38;5;241m=\u001b[39m \u001b[38;5;28mself\u001b[39m\u001b[38;5;241m.\u001b[39m_unwrap_value(response\u001b[38;5;241m.\u001b[39mget(\u001b[38;5;124m\"\u001b[39m\u001b[38;5;124mvalue\u001b[39m\u001b[38;5;124m\"\u001b[39m, \u001b[38;5;28;01mNone\u001b[39;00m))\n\u001b[0;32m    347\u001b[0m     \u001b[38;5;28;01mreturn\u001b[39;00m response\n",
      "File \u001b[1;32mF:\\anaconda3\\envs\\spider\\lib\\site-packages\\selenium\\webdriver\\remote\\errorhandler.py:229\u001b[0m, in \u001b[0;36mErrorHandler.check_response\u001b[1;34m(self, response)\u001b[0m\n\u001b[0;32m    227\u001b[0m         alert_text \u001b[38;5;241m=\u001b[39m value[\u001b[38;5;124m\"\u001b[39m\u001b[38;5;124malert\u001b[39m\u001b[38;5;124m\"\u001b[39m]\u001b[38;5;241m.\u001b[39mget(\u001b[38;5;124m\"\u001b[39m\u001b[38;5;124mtext\u001b[39m\u001b[38;5;124m\"\u001b[39m)\n\u001b[0;32m    228\u001b[0m     \u001b[38;5;28;01mraise\u001b[39;00m exception_class(message, screen, stacktrace, alert_text)  \u001b[38;5;66;03m# type: ignore[call-arg]  # mypy is not smart enough here\u001b[39;00m\n\u001b[1;32m--> 229\u001b[0m \u001b[38;5;28;01mraise\u001b[39;00m exception_class(message, screen, stacktrace)\n",
      "\u001b[1;31mNoSuchElementException\u001b[0m: Message: no such element: Unable to locate element: {\"method\":\"xpath\",\"selector\":\"/html/body/div[4]/div[2]/div[2]/div[1]/div[2]/div[1]/a[2]/div[1]\"}\n  (Session info: chrome=115.0.5790.110); For documentation on this error, please visit: https://www.selenium.dev/documentation/webdriver/troubleshooting/errors#no-such-element-exception\nStacktrace:\nBacktrace:\n\tGetHandleVerifier [0x00007FF6A5154A62+57106]\n\t(No symbol) [0x00007FF6A50CCF52]\n\t(No symbol) [0x00007FF6A4F9E2CB]\n\t(No symbol) [0x00007FF6A4FD786E]\n\t(No symbol) [0x00007FF6A4FD795C]\n\t(No symbol) [0x00007FF6A5010477]\n\t(No symbol) [0x00007FF6A4FF69FF]\n\t(No symbol) [0x00007FF6A500E522]\n\t(No symbol) [0x00007FF6A4FF6793]\n\t(No symbol) [0x00007FF6A4FCCE81]\n\t(No symbol) [0x00007FF6A4FCE064]\n\tGetHandleVerifier [0x00007FF6A5404222+2873042]\n\tGetHandleVerifier [0x00007FF6A5456590+3209792]\n\tGetHandleVerifier [0x00007FF6A544F3AF+3180639]\n\tGetHandleVerifier [0x00007FF6A51E5F25+652245]\n\t(No symbol) [0x00007FF6A50D8618]\n\t(No symbol) [0x00007FF6A50D47C4]\n\t(No symbol) [0x00007FF6A50D48BC]\n\t(No symbol) [0x00007FF6A50C4C33]\n\tBaseThreadInitThunk [0x00007FFF57917614+20]\n\tRtlUserThreadStart [0x00007FFF591C26B1+33]\n"
     ]
    }
   ],
   "source": [
    "driver = webdriver.Chrome()\n",
    "driver.get('https://www.tianyancha.com/')\n",
    "time.sleep(2)\n",
    "\n",
    "driver.find_element(By.CLASS_NAME, 'treasure_nav-link__7ErdH').click()\n",
    "driver.find_element(By.XPATH, '//*[@id=\"J_Modal_Container\"]/div/div/div[2]/div/div[2]/div/div/div[2]').click()\n",
    "driver.find_element(By.CLASS_NAME, 'title-password').click()\n",
    "time.sleep(2)\n",
    "\n",
    "name = driver.find_element(By.XPATH, '//*[@id=\"J_Modal_Container\"]/div/div/div[2]/div/div[2]/div/div/div[3]/div[2]/div[1]/input')\n",
    "name.send_keys('18218869544')\n",
    "time.sleep(2)\n",
    "passwd = driver.find_element(By.XPATH, '//*[@id=\"J_Modal_Container\"]/div/div/div[2]/div/div[2]/div/div/div[3]/div[2]/div[2]/input')\n",
    "passwd.send_keys('YMH1308458539')\n",
    "time.sleep(2)\n",
    "check = driver.find_element(By.XPATH, '//*[@id=\"J_Modal_Container\"]/div/div/div[2]/div/div[2]/div/div/div[3]/div[3]/input')\n",
    "check.click()\n",
    "time.sleep(1)\n",
    "login = driver.find_element(By.XPATH, '//*[@id=\"J_Modal_Container\"]/div/div/div[2]/div/div[2]/div/div/div[3]/div[2]/button/span')\n",
    "login.click()\n",
    "time.sleep(2)\n",
    "\n",
    "while True:\n",
    "    driver.find_element(By.XPATH, '/html/body/div[4]/div[2]/div[2]/div[1]/div[2]/div[1]/a[2]/div[1]').screenshot('a.png')\n",
    "    driver.find_element(By.XPATH, '/html/body/div[4]/div[2]/div[2]/div[2]/div[2]').click()\n",
    "    time.sleep(3)\n",
    "    driver.find_element(By.XPATH, '/html/body/div[4]/div[2]/div[2]/div[1]/div[2]/div[1]/a[2]/div[1]').screenshot('b.png')\n",
    "    driver.find_element(By.XPATH, '/html/body/div[4]/div[2]/div[2]/div[1]/div[2]/div[1]/a[1]/div[2]').screenshot('c.png')\n",
    "\n",
    "    ocr = ddddocr.DdddOcr(det=False, ocr=False, show_ad=False)\n",
    "    with open('b.png', 'rb') as f:\n",
    "        background = f.read()\n",
    "    with open('c.png', 'rb') as f:\n",
    "        target = f.read()\n",
    "\n",
    "    res_a = ocr.slide_match(target, background, simple_target=True)\n",
    "    bounds = res_a['target']\n",
    "    print(res_a)\n",
    "\n",
    "    img = Image.open('b.png')\n",
    "    img = img.filter(MyGaussianBlur(radius=29, bounds=bounds))\n",
    "    img.save('b_after.png')\n",
    "\n",
    "    with open('b_after.png', 'rb') as f:\n",
    "        background = f.read()\n",
    "    with open('c.png', 'rb') as f:\n",
    "        target = f.read()\n",
    "\n",
    "    res = ocr.slide_match(target, background, simple_target=True)\n",
    "    bounds = res['target']\n",
    "    print(res)\n",
    "\n",
    "    img = Image.open('b.png')\n",
    "    img = img.filter(MyGaussianBlur(radius=29, bounds=bounds))\n",
    "    img.save('b_before.png')\n",
    "\n",
    "    init_x = res['target'][0] - res_a['target'][2] + 10\n",
    "    distance = res_a['target'][2] - 10\n",
    "    # distance = res['target'][0] - res_a['target'][0] + 2  # 滑块移动的距离，就是上面识别到的第一个差异点的w值\n",
    "    # dis_a, dis_b = distance // 2, distance // 2\n",
    "    # track_a = create_track(dis_a)\n",
    "    # track_b = create_track(dis_b)\n",
    "    # _, track_a = get_tracks(dis_a, 1, 'ease_in_out_bounce')\n",
    "    # _, track_b = get_tracks(dis_b, 2, 'ease_in_out_bounce')\n",
    "    _, track = get_tracks(distance, 2, 'ease_in_out_bounce')\n",
    "\n",
    "    from selenium.webdriver import ActionChains\n",
    "\n",
    "    # 移动滑块\n",
    "    actions = ActionChains(driver)  # 创建动作链\n",
    "    slider = driver.find_element(By.XPATH, '/html/body/div[4]/div[2]/div[2]/div[2]/div[2]')  # 运用Xpath方法获取滑块元素\n",
    "    actions.click_and_hold(slider).perform()  # 点击滑块，并保持点击动作\n",
    "    # for x in track_a:\n",
    "    #     actions.move_by_offset(xoffset=x, yoffset=0).perform()  # 拖动滑块\n",
    "    # for x in track_b:\n",
    "    #     actions.move_by_offset(xoffset=x, yoffset=0).perform()  # 拖动滑块\n",
    "    actions.move_by_offset(xoffset=init_x, yoffset=0).perform()\n",
    "    for x in track:\n",
    "        actions.move_by_offset(xoffset=x, yoffset=0).perform()  # 拖动滑块\n",
    "    time.sleep(1)\n",
    "    actions.release().perform()  # 松开滑块，验证完成\n",
    "    time.sleep(6)"
   ]
  },
  {
   "cell_type": "code",
   "execution_count": 31,
   "id": "a88bc1c8-1606-4d95-9de1-31b257dcec62",
   "metadata": {},
   "outputs": [
    {
     "name": "stdout",
     "output_type": "stream",
     "text": [
      "{'target_y': 0, 'target': [0, 63, 55, 114]}\n"
     ]
    }
   ],
   "source": [
    "import ddddocr\n",
    "from PIL import Image, ImageFilter\n",
    "\n",
    "class MyGaussianBlur(ImageFilter.Filter):\n",
    "    name = \"GaussianBlur\"\n",
    "    \n",
    "    def __init__(self, radius=2, bounds=None):\n",
    "        self.radius = radius\n",
    "        self.bounds = bounds\n",
    "    def filter(self, image):\n",
    "        if self.bounds:\n",
    "            clips = image.crop(self.bounds).gaussian_blur(self.radius)\n",
    "            image.paste(clips, self.bounds)\n",
    "            return image\n",
    "        else:\n",
    "            return image.gaussian_blur(self.radius)\n",
    "\n",
    "ocr = ddddocr.DdddOcr(det=False, ocr=False, show_ad=False)\n",
    "with open('b.png', 'rb') as f:\n",
    "    background = f.read()\n",
    "with open('c.png', 'rb') as f:\n",
    "    target = f.read()\n",
    "\n",
    "res_a = ocr.slide_match(target, background, simple_target=True)\n",
    "bounds = res_a['target']\n",
    "print(res_a)"
   ]
  },
  {
   "cell_type": "code",
   "execution_count": 32,
   "id": "2e333a09-79a1-4e0c-8148-dae6a22853f4",
   "metadata": {},
   "outputs": [],
   "source": [
    "img = Image.open('b.png')\n",
    "img = img.filter(MyGaussianBlur(radius=29, bounds=bounds))\n",
    "img.save('b_after.png')"
   ]
  },
  {
   "cell_type": "code",
   "execution_count": 33,
   "id": "78a21134-3694-4fc6-b567-ce0d48b23003",
   "metadata": {},
   "outputs": [
    {
     "name": "stdout",
     "output_type": "stream",
     "text": [
      "{'target_y': 0, 'target': [131, 63, 186, 114]}\n"
     ]
    }
   ],
   "source": [
    "with open('b_after.png', 'rb') as f:\n",
    "    background = f.read()\n",
    "with open('c.png', 'rb') as f:\n",
    "    target = f.read()\n",
    "\n",
    "res = ocr.slide_match(target, background, simple_target=True)\n",
    "bounds = res['target']\n",
    "print(res)"
   ]
  },
  {
   "cell_type": "code",
   "execution_count": 34,
   "id": "6b8ce0f1-52d4-4874-ba1d-f3d4f43cd73d",
   "metadata": {},
   "outputs": [],
   "source": [
    "# 移动轨迹计算\n",
    "distance = res['target'][0] - res_a['target'][0]  # 滑块移动的距离，就是上面识别到的第一个差异点的w值\n",
    "track = []  # 移动轨迹，里面保留的是每次移动的距离\n",
    "current = 0  # 当前位移\n",
    "mid = distance * 3 / 4  # 减速阈值，前面4/5做匀加速移动，后面1/5做匀加速移动\n",
    "t = 0.2  # 计算间隔，每次移动两秒\n",
    "v = 0  # 初速度\n",
    "while current < distance:  # 当移动的距离超过，目标距离后，就停止循环\n",
    "    if current < mid:\n",
    "        a = 3  # 前面匀加速的加速度为正2\n",
    "    else:\n",
    "        a = -2  # 后面匀减速的加速度为负3\n",
    "    v0 = v  # 初速度 v0\n",
    "    v = v0 + a * t  # 当前速度 v = v0 + at\n",
    "    move = v0 * t + 1 / 2 * a * t * t  # 移动距离 x = v0t + 1/2 * a * t^2\n",
    "    current = current + move  # 总位移\n",
    "    track.append(round(move))  # 每次移动的距离\n",
    "track[-1]=distance-sum(track[0:-1])  # 上面计算的总距离，会超过目标距离，所以最后一个移动距离需要修正一下"
   ]
  },
  {
   "cell_type": "code",
   "execution_count": 39,
   "id": "f73ff64a-6de4-418e-aaf5-b26b1733332b",
   "metadata": {},
   "outputs": [
    {
     "ename": "NameError",
     "evalue": "name 'browser' is not defined",
     "output_type": "error",
     "traceback": [
      "\u001b[1;31m---------------------------------------------------------------------------\u001b[0m",
      "\u001b[1;31mNameError\u001b[0m                                 Traceback (most recent call last)",
      "Input \u001b[1;32mIn [39]\u001b[0m, in \u001b[0;36m<cell line: 4>\u001b[1;34m()\u001b[0m\n\u001b[0;32m      1\u001b[0m \u001b[38;5;28;01mfrom\u001b[39;00m \u001b[38;5;21;01mselenium\u001b[39;00m\u001b[38;5;21;01m.\u001b[39;00m\u001b[38;5;21;01mwebdriver\u001b[39;00m \u001b[38;5;28;01mimport\u001b[39;00m ActionChains\n\u001b[0;32m      3\u001b[0m \u001b[38;5;66;03m# 移动滑块\u001b[39;00m\n\u001b[1;32m----> 4\u001b[0m actions \u001b[38;5;241m=\u001b[39m ActionChains(\u001b[43mbrowser\u001b[49m)  \u001b[38;5;66;03m# 创建动作链\u001b[39;00m\n\u001b[0;32m      5\u001b[0m slider \u001b[38;5;241m=\u001b[39m driver\u001b[38;5;241m.\u001b[39mfind_element(By\u001b[38;5;241m.\u001b[39mXPATH, \u001b[38;5;124m'\u001b[39m\u001b[38;5;124m/html/body/div[4]/div[2]/div[2]/div[2]/div[2]\u001b[39m\u001b[38;5;124m'\u001b[39m)  \u001b[38;5;66;03m# 运用Xpath方法获取滑块元素\u001b[39;00m\n\u001b[0;32m      6\u001b[0m actions\u001b[38;5;241m.\u001b[39mclick_and_hold(slider)\u001b[38;5;241m.\u001b[39mperform()  \u001b[38;5;66;03m# 点击滑块，并保持点击动作\u001b[39;00m\n",
      "\u001b[1;31mNameError\u001b[0m: name 'browser' is not defined"
     ]
    }
   ],
   "source": [
    "from selenium.webdriver import ActionChains\n",
    "\n",
    "# 移动滑块\n",
    "actions = ActionChains(driver)  # 创建动作链\n",
    "slider = driver.find_element(By.XPATH, '/html/body/div[4]/div[2]/div[2]/div[2]/div[2]')  # 运用Xpath方法获取滑块元素\n",
    "actions.click_and_hold(slider).perform()  # 点击滑块，并保持点击动作\n",
    "for x in track:\n",
    "    actions.move_by_offset(xoffset=x, yoffset=0).perform()  # 拖动滑块\n",
    "time.sleep(1)\n",
    "actions.release().perform()  # 松开滑块，验证完成"
   ]
  },
  {
   "cell_type": "code",
   "execution_count": 66,
   "id": "3bd9aa76-2f3c-460d-9521-4e65c477b4f2",
   "metadata": {},
   "outputs": [],
   "source": [
    "def ease_out_bounce(x):\n",
    "    n1 = 7.5625\n",
    "    d1 = 2.75\n",
    "    if x < 1 / d1:\n",
    "        return n1 * x * x\n",
    "    elif x < 2 / d1:\n",
    "        x -= 1.5 / d1\n",
    "        return n1 * x * x + 0.75\n",
    "    elif x < 2.5 / d1:\n",
    "        x -= 2.25 / d1\n",
    "        return n1 * x * x + 0.9375\n",
    "    else:\n",
    "        x -= 2.625 / d1\n",
    "        return n1 * x * x + 0.984375\n",
    "\n",
    "\n",
    "def ease_in_out_bounce(x):\n",
    "    return ( 1 - ease_out_bounce( 1 - 2 * x ) ) / 2 if x < 0.5 else ( 1 + ease_out_bounce( 2 * x - 1 ) ) / 2\n",
    "\n",
    "\n",
    "def get_tracks(distance, seconds, ease_func):\n",
    "    \"\"\"\n",
    "    可以根据滑块的偏移，需要的时间（相对时间，并不是准确时间），以及要采用的缓动函数生成拖动轨迹。\n",
    "    \n",
    "    :param distance: 位移距离\n",
    "    :param seconds: 时间秒\n",
    "    :par\n",
    "    am ease_func: 调用的缓慢函数\n",
    "    :return:\n",
    "    \"\"\"\n",
    "    tracks = [0]\n",
    "    offsets = [0]\n",
    "    for t in np.arange(0.0, seconds, 0.1):\n",
    "        ease = globals()[ease_func]\n",
    "        offset = round(ease(t / seconds) * distance)\n",
    "        tracks.append(offset - offsets[-1])\n",
    "        offsets.append(offset)\n",
    "    return offsets, tracks"
   ]
  },
  {
   "cell_type": "code",
   "execution_count": null,
   "id": "76221786-11da-4ee5-8c23-cd26ebea0f3f",
   "metadata": {},
   "outputs": [],
   "source": []
  },
  {
   "cell_type": "code",
   "execution_count": 71,
   "id": "9427c7a4-a752-4ed0-82b9-d8a58079572f",
   "metadata": {},
   "outputs": [],
   "source": [
    "def create_track(distance):\n",
    "    track = []  # 移动轨迹，里面保留的是每次移动的距离\n",
    "    current = 0  # 当前位移\n",
    "    mid = distance * 3 / 4  # 减速阈值，前面4/5做匀加速移动，后面1/5做匀加速移动\n",
    "    t = 0.5  # 计算间隔，每次移动两秒\n",
    "    v = 0  # 初速度\n",
    "    while current < distance:  # 当移动的距离超过，目标距离后，就停止循环\n",
    "        if current < mid:\n",
    "            a = 6  # 前面匀加速的加速度为正2\n",
    "        else:\n",
    "            a = -7  # 后面匀减速的加速度为负3\n",
    "        v0 = v  # 初速度 v0\n",
    "        v = v0 + a * t  # 当前速度 v = v0 + at\n",
    "        move = v0 * t + 1 / 2 * a * t * t  # 移动距离 x = v0t + 1/2 * a * t^2\n",
    "        current = current + move  # 总位移\n",
    "        track.append(round(move))  # 每次移动的距离\n",
    "    track[-1]=distance-sum(track[0:-1])  # 上面计算的总距离，会超过目标距离，所以最后一个移动距离需要修正一下\n",
    "    return track"
   ]
  },
  {
   "cell_type": "code",
   "execution_count": null,
   "id": "60d1d07d-6346-4809-9f24-2d32d34db681",
   "metadata": {},
   "outputs": [],
   "source": []
  },
  {
   "cell_type": "code",
   "execution_count": 20,
   "id": "42c88c1c-2fbb-4737-b698-cdded605cbef",
   "metadata": {},
   "outputs": [
    {
     "name": "stdout",
     "output_type": "stream",
     "text": [
      "[2 1 1 3]\n"
     ]
    }
   ],
   "source": [
    "from sklearn.metrics import confusion_matrix\n",
    "\n",
    "y = [0, 0, 1, 0, 1, 1, 1]\n",
    "y_t = [0, 0, 1, 1, 0, 1, 1]\n",
    "print(confusion_matrix(y, y_t).ravel())\n",
    "a, b, c, d = confusion_matrix(y, y_t).ravel()"
   ]
  },
  {
   "cell_type": "code",
   "execution_count": 23,
   "id": "112dc88f-bda1-4648-a620-717a57444d20",
   "metadata": {},
   "outputs": [],
   "source": [
    "y = [0, 0, 0, 0, 0, 0, 0]\n",
    "y_t = [0, 0, 0, 0, 0, 1, 0]\n",
    "a, b, c, d = confusion_matrix(y, y_t).ravel()"
   ]
  },
  {
   "cell_type": "code",
   "execution_count": 24,
   "id": "5d9de1e2-256d-4871-956d-6fc713de78f2",
   "metadata": {},
   "outputs": [
    {
     "data": {
      "text/plain": [
       "array([6, 1, 0, 0], dtype=int64)"
      ]
     },
     "execution_count": 24,
     "metadata": {},
     "output_type": "execute_result"
    }
   ],
   "source": [
    "confusion_matrix(y, y_t).ravel()"
   ]
  },
  {
   "cell_type": "code",
   "execution_count": null,
   "id": "01f66d11-09b2-41b8-b362-8809b7d9b639",
   "metadata": {},
   "outputs": [],
   "source": []
  }
 ],
 "metadata": {
  "kernelspec": {
   "display_name": "spider",
   "language": "python",
   "name": "spider"
  },
  "language_info": {
   "codemirror_mode": {
    "name": "ipython",
    "version": 3
   },
   "file_extension": ".py",
   "mimetype": "text/x-python",
   "name": "python",
   "nbconvert_exporter": "python",
   "pygments_lexer": "ipython3",
   "version": "3.8.13"
  }
 },
 "nbformat": 4,
 "nbformat_minor": 5
}
